{
 "cells": [
  {
   "cell_type": "markdown",
   "metadata": {},
   "source": [
    "# APIs - Cumulative Lab\n",
    "\n",
    "\n",
    "## Introduction \n",
    "\n",
    "We've seen how the Yelp API works and how to create basic visualizations using Folium. It's time to put those skills to work in order to create a working map! Taking things a step further, you'll also independently explore how to perform pagination in order to retrieve a full results set from the Yelp API.\n",
    "\n",
    "## Objectives\n",
    "\n",
    "You will be able to: \n",
    "\n",
    "* Practice using functions to organize your code\n",
    "* Use pagination to retrieve all results from an API query\n",
    "* Practice parsing data returned from an API query\n",
    "* Practice interpreting visualizations of a dataset\n",
    "* Create maps using Folium"
   ]
  },
  {
   "cell_type": "markdown",
   "metadata": {},
   "source": [
    "## Your Task: Query Yelp for All Businesses in a Category and Analyze the Results\n",
    "\n",
    "![restaurant counter with pizza](images/restaurant_counter.jpg)\n",
    "\n",
    "Photo by <a href=\"https://unsplash.com/@jordanmadrid?utm_source=unsplash&utm_medium=referral&utm_content=creditCopyText\">Jordan Madrid</a> on <a href=\"/s/photos/pizza-restaurant?utm_source=unsplash&utm_medium=referral&utm_content=creditCopyText\">Unsplash</a>"
   ]
  },
  {
   "cell_type": "markdown",
   "metadata": {},
   "source": [
    "### Overview\n",
    "\n",
    "You've now worked with some API calls, but we have yet to see how to retrieve a more complete dataset in a programmatic manner. In this lab, you will write a query of businesses on Yelp, then use *pagination* to retrieve all possible results for that query. Then you will create a summary of your findings, including a Folium map of the geographic locations of those businesses.\n",
    "\n",
    "### Technical Details\n",
    "\n",
    "Returning to the Yelp API, the [documentation](https://www.yelp.com/developers/documentation/v3/business_search) also provides us details regarding the **API limits**. These often include details about the number of requests a user is allowed to make within a specified time limit and the maximum number of results to be returned. In this case, we are told that any request has a **maximum of 50 results per request** and defaults to 20. Furthermore, any search will be limited to a **total of 1000 results**. To retrieve all 1000 of these results, we would have to page through the results piece by piece, retrieving 50 at a time. Processes such as these are often referred to as pagination.\n",
    "\n",
    "Also, be mindful of the **API** ***rate*** **limits**. You can only make **5000 requests per day** and are also can make requests too fast. Start prototyping small before running a loop that could be faulty. You can also use `time.sleep(n)` to add delays. For more details see https://www.yelp.com/developers/documentation/v3/rate_limiting.\n",
    "\n",
    "In this lab, you will define a search and then paginate over the results to retrieve all of the results. You'll then parse these responses as a list of dictionaries (for further exploration) and create a map using Folium to visualize the results geographically.\n",
    "\n",
    "### Requirements\n",
    "\n",
    "#### 1. Make the Initial Request\n",
    "\n",
    "Start by filling in your API key to make the initial request to the business search API. Investigate the structure of the response you get back and start figuring out how you will extract the relevant information.\n",
    "\n",
    "#### 2. Add Pagination\n",
    "\n",
    "Using loops and functions, collect the maximum number of results for your query from the API.\n",
    "\n",
    "#### 3. Perform Exploratory Analysis\n",
    "\n",
    "Interpret visualizations related to the price range, average rating, and number of reviews for all query results.\n",
    "\n",
    "#### 4. Create a Folium Map\n",
    "\n",
    "Using latitude and longitude data, plot the query results on an interactive map."
   ]
  },
  {
   "cell_type": "markdown",
   "metadata": {},
   "source": [
    "## 1. Make the Initial Request\n",
    "\n",
    "### Querying\n",
    "\n",
    "Start by making an initial request to the Yelp API. Your search must include at least 2 parameters: **term** and **location**. For example, you might search for pizza restaurants in NYC. The term and location is up to you but make the request below.\n",
    "\n",
    "Use the `requests` library ([documentation here](https://requests.readthedocs.io/en/master/user/quickstart/#make-a-request)).\n",
    "\n",
    "You'll also need an API key from Yelp. If you haven't done this already, go to the Yelp [Manage App page](https://www.yelp.com/developers/v3/manage_app) and create a new app (after making an account if you haven't already)."
   ]
  },
  {
   "cell_type": "code",
   "execution_count": 1,
   "metadata": {},
   "outputs": [
    {
     "data": {
      "text/plain": [
       "<Response [200]>"
      ]
     },
     "execution_count": 1,
     "metadata": {},
     "output_type": "execute_result"
    }
   ],
   "source": [
    "# Replace None with appropriate code\n",
    "\n",
    "# Import the requests library\n",
    "import requests\n",
    "\n",
    "# Get this from the \"Manage App\" page. Make sure you set them\n",
    "# back to None before pushing this to GitHub, since otherwise\n",
    "# your credentials will be compromised\n",
    "api_key = None\n",
    "\n",
    "# These can be whatever you want! But the solution uses \"pizza\"\n",
    "# and \"New York NY\" if you want to compare your work directly\n",
    "term = 'pizza'\n",
    "location = 'New York NY'\n",
    "\n",
    "# Set up params for request\n",
    "url = \"https://api.yelp.com/v3/businesses/search\"\n",
    "headers = {\n",
    "    \"Authorization\": \"Bearer {}\".format(api_key)\n",
    "}\n",
    "url_params = {\n",
    "    \"term\": term.replace(\" \", \"+\"),\n",
    "    \"location\": location.replace(\" \", \"+\")\n",
    "}\n",
    "\n",
    "# Make the request using requests.get, passing in\n",
    "# url, headers=headers, and params=url_params\n",
    "response = requests.get(url, headers=headers, params=url_params)\n",
    "\n",
    "# Confirm we got a 200 response\n",
    "response"
   ]
  },
  {
   "cell_type": "code",
   "execution_count": 2,
   "metadata": {},
   "outputs": [
    {
     "data": {
      "text/plain": [
       "dict_keys(['businesses', 'total', 'region'])"
      ]
     },
     "execution_count": 2,
     "metadata": {},
     "output_type": "execute_result"
    }
   ],
   "source": [
    "# Run this cell without changes\n",
    "\n",
    "# Get the response body in JSON format\n",
    "response_json = response.json()\n",
    "# View the keys\n",
    "response_json.keys()"
   ]
  },
  {
   "cell_type": "markdown",
   "metadata": {},
   "source": [
    "### Extracting Data\n",
    "\n",
    "Now, retrieve the value associated with the `'businesses'` key, and inspect its contents."
   ]
  },
  {
   "cell_type": "code",
   "execution_count": 3,
   "metadata": {},
   "outputs": [
    {
     "data": {
      "text/plain": [
       "[{'id': 'zj8Lq1T8KIC5zwFief15jg',\n",
       "  'alias': 'prince-street-pizza-new-york-2',\n",
       "  'name': 'Prince Street Pizza',\n",
       "  'image_url': 'https://s3-media2.fl.yelpcdn.com/bphoto/AaCoCIY53sQkaqrquNKRJQ/o.jpg',\n",
       "  'is_closed': False,\n",
       "  'url': 'https://www.yelp.com/biz/prince-street-pizza-new-york-2?adjust_creative=xSG77WGgP20ukG_Zehhovg&utm_campaign=yelp_api_v3&utm_medium=api_v3_business_search&utm_source=xSG77WGgP20ukG_Zehhovg',\n",
       "  'review_count': 4582,\n",
       "  'categories': [{'alias': 'pizza', 'title': 'Pizza'},\n",
       "   {'alias': 'italian', 'title': 'Italian'}],\n",
       "  'rating': 4.5,\n",
       "  'coordinates': {'latitude': 40.72308755605564,\n",
       "   'longitude': -73.99453001177575},\n",
       "  'transactions': ['delivery', 'pickup'],\n",
       "  'price': '$',\n",
       "  'location': {'address1': '27 Prince St',\n",
       "   'address2': None,\n",
       "   'address3': '',\n",
       "   'city': 'New York',\n",
       "   'zip_code': '10012',\n",
       "   'country': 'US',\n",
       "   'state': 'NY',\n",
       "   'display_address': ['27 Prince St', 'New York, NY 10012']},\n",
       "  'phone': '+12129664100',\n",
       "  'display_phone': '(212) 966-4100',\n",
       "  'distance': 1961.8771417367063},\n",
       " {'id': 'ysqgdbSrezXgVwER2kQWKA',\n",
       "  'alias': 'julianas-brooklyn-3',\n",
       "  'name': \"Juliana's\",\n",
       "  'image_url': 'https://s3-media2.fl.yelpcdn.com/bphoto/HB5-BoJaVwOP5wLMG57TlA/o.jpg',\n",
       "  'is_closed': False,\n",
       "  'url': 'https://www.yelp.com/biz/julianas-brooklyn-3?adjust_creative=xSG77WGgP20ukG_Zehhovg&utm_campaign=yelp_api_v3&utm_medium=api_v3_business_search&utm_source=xSG77WGgP20ukG_Zehhovg',\n",
       "  'review_count': 2551,\n",
       "  'categories': [{'alias': 'pizza', 'title': 'Pizza'}],\n",
       "  'rating': 4.5,\n",
       "  'coordinates': {'latitude': 40.70274718768062,\n",
       "   'longitude': -73.99343490196397},\n",
       "  'transactions': ['delivery'],\n",
       "  'price': '$$',\n",
       "  'location': {'address1': '19 Old Fulton St',\n",
       "   'address2': '',\n",
       "   'address3': '',\n",
       "   'city': 'Brooklyn',\n",
       "   'zip_code': '11201',\n",
       "   'country': 'US',\n",
       "   'state': 'NY',\n",
       "   'display_address': ['19 Old Fulton St', 'Brooklyn, NY 11201']},\n",
       "  'phone': '+17185966700',\n",
       "  'display_phone': '(718) 596-6700',\n",
       "  'distance': 308.56984360837544}]"
      ]
     },
     "execution_count": 3,
     "metadata": {},
     "output_type": "execute_result"
    }
   ],
   "source": [
    "# Replace None with appropriate code\n",
    "\n",
    "# Retrieve the value from response_json\n",
    "businesses = response_json['businesses']\n",
    "\n",
    "# View the first 2 records\n",
    "businesses[:2]"
   ]
  },
  {
   "cell_type": "markdown",
   "metadata": {},
   "source": [
    "### Preparing Data\n",
    "\n",
    "Write a function `prepare_data` that takes in a list of dictionaries like `businesses` and returns a copy that has been prepared for analysis:\n",
    "\n",
    "1. The `coordinates` key-value pair has been converted into two separate key-value pairs, `latitude` and `longitude`\n",
    "2. All other key-value pairs except for `name`, `review_count`, `rating`, and `price` have been dropped\n",
    "3. All dictionaries missing one of the relevant keys or containing null values have been dropped\n",
    "\n",
    "In other words, the final keys for each dictionary should be `name`, `review_count`, `rating`, `price`, `latitude`, and `longitude`.\n",
    "\n",
    "Complete the function in the cell below:"
   ]
  },
  {
   "cell_type": "code",
   "execution_count": 4,
   "metadata": {},
   "outputs": [
    {
     "data": {
      "text/plain": [
       "[{'name': 'Prince Street Pizza',\n",
       "  'review_count': 4582,\n",
       "  'rating': 4.5,\n",
       "  'price': '$',\n",
       "  'latitude': 40.72308755605564,\n",
       "  'longitude': -73.99453001177575},\n",
       " {'name': \"Juliana's\",\n",
       "  'review_count': 2551,\n",
       "  'rating': 4.5,\n",
       "  'price': '$$',\n",
       "  'latitude': 40.70274718768062,\n",
       "  'longitude': -73.99343490196397},\n",
       " {'name': \"L'industrie Pizzeria\",\n",
       "  'review_count': 805,\n",
       "  'rating': 4.5,\n",
       "  'price': '$',\n",
       "  'latitude': 40.71162,\n",
       "  'longitude': -73.95783},\n",
       " {'name': 'Rubirosa',\n",
       "  'review_count': 2800,\n",
       "  'rating': 4.5,\n",
       "  'price': '$$',\n",
       "  'latitude': 40.722766,\n",
       "  'longitude': -73.996233},\n",
       " {'name': \"Lombardi's Pizza\",\n",
       "  'review_count': 6453,\n",
       "  'rating': 4.0,\n",
       "  'price': '$$',\n",
       "  'latitude': 40.7215934960083,\n",
       "  'longitude': -73.9955956044561}]"
      ]
     },
     "execution_count": 4,
     "metadata": {},
     "output_type": "execute_result"
    }
   ],
   "source": [
    "# Replace None with appropriate code\n",
    "\n",
    "def prepare_data(data_list):\n",
    "    \"\"\"\n",
    "    This function takes in a list of dictionaries and prepares it\n",
    "    for analysis\n",
    "    \"\"\"\n",
    "    \n",
    "    # Make a new list to hold results\n",
    "    results = []\n",
    "    \n",
    "    key_list = ['name', 'review_count', 'rating', 'price']\n",
    "    \n",
    "    for business_data in data_list:\n",
    "    \n",
    "        # Make a new dictionary to hold prepared data for this business\n",
    "        prepared_data = {}\n",
    "        \n",
    "        # Extract name, review_count, rating, and price key-value pairs\n",
    "        # from business_data and add to prepared_data\n",
    "        # If a key is not present in business_data, add it to prepared_data\n",
    "        # with an associated value of None\n",
    "        for key in key_list:\n",
    "            if key in business_data.keys():\n",
    "                prepared_data.update({key: business_data[key]})\n",
    "            else:\n",
    "                prepared_data.update({key: None})\n",
    "    \n",
    "        # Parse and add latitude and longitude columns\n",
    "        prepared_data.update({'latitude': business_data['coordinates']['latitude']})\n",
    "        prepared_data.update({'longitude': business_data['coordinates']['longitude']})\n",
    "        \n",
    "        # Add to list if all values are present\n",
    "        if all(prepared_data.values()):\n",
    "            results.append(prepared_data)\n",
    "    \n",
    "    return results\n",
    "    \n",
    "# Test out function\n",
    "prepared_businesses = prepare_data(businesses)\n",
    "prepared_businesses[:5]"
   ]
  },
  {
   "cell_type": "markdown",
   "metadata": {},
   "source": [
    "Check that your function created the correct keys:"
   ]
  },
  {
   "cell_type": "code",
   "execution_count": 5,
   "metadata": {},
   "outputs": [],
   "source": [
    "# Run this cell without changes\n",
    "\n",
    "assert sorted(list(prepared_businesses[0].keys())) == ['latitude', 'longitude', 'name', 'price', 'rating', 'review_count']"
   ]
  },
  {
   "cell_type": "markdown",
   "metadata": {},
   "source": [
    "The following code will differ depending on your query, but we expect there to be 20 businesses in the original list, and potentially fewer in the prepared list (if any of them were missing data):"
   ]
  },
  {
   "cell_type": "code",
   "execution_count": 6,
   "metadata": {},
   "outputs": [
    {
     "name": "stdout",
     "output_type": "stream",
     "text": [
      "Original: 20\n",
      "Prepared: 20\n"
     ]
    }
   ],
   "source": [
    "# Run this cell without changes\n",
    "print(\"Original:\", len(businesses))\n",
    "print(\"Prepared:\", len(prepared_businesses))"
   ]
  },
  {
   "cell_type": "markdown",
   "metadata": {},
   "source": [
    "Great! We will reuse this function once we have retrieved the full dataset."
   ]
  },
  {
   "cell_type": "markdown",
   "metadata": {},
   "source": [
    "## 2. Add Pagination\n",
    "\n",
    "Now that you are able to extract information from one page of the response, let's figure out how to request as many pages as possible.\n",
    "\n",
    "### Determining the Total\n",
    "\n",
    "Depending on the number of total results for your query, you will either retrieve all of the results, or just the first 1000 (if there are more than 1000 total).\n",
    "\n",
    "We can find the total number of results using the `\"total\"` key:"
   ]
  },
  {
   "cell_type": "code",
   "execution_count": 7,
   "metadata": {},
   "outputs": [
    {
     "data": {
      "text/plain": [
       "12200"
      ]
     },
     "execution_count": 7,
     "metadata": {},
     "output_type": "execute_result"
    }
   ],
   "source": [
    "# Run this cell without changes\n",
    "response_json[\"total\"]"
   ]
  },
  {
   "cell_type": "markdown",
   "metadata": {},
   "source": [
    "(This is specific to the implementation of the Yelp API. Some APIs will just tell you that there are more pages, or will tell you the number of pages total, rather than the total number of results. If you're not sure, always check the documentation.)\n",
    "\n",
    "In the cell below, assign the variable `total` to either the value shown above (if it is less than 1000), or 1000."
   ]
  },
  {
   "cell_type": "code",
   "execution_count": 8,
   "metadata": {},
   "outputs": [],
   "source": [
    "# Replace None with appropriate code\n",
    "total = min(1000, response_json['total'])"
   ]
  },
  {
   "cell_type": "markdown",
   "metadata": {},
   "source": [
    "### Calculating the Offsets\n",
    "\n",
    "The documentation states in the parameters section:\n",
    "\n",
    "> **Name**: `limit`, **Type:** int, **Description:** Optional. Number of business results to return. By default, it will return 20. Maximum is 50.\n",
    "\n",
    "> **Name**: `offset`, **Type:** int, **Description:** Optional. Offset the list of returned business results by this amount.\n",
    "\n",
    "So, to get the most results with the fewest API calls we want to set a limit of 50 every time. If, say, we wanted to get 210 total results, that would mean:\n",
    "\n",
    "1. Offset of `0` (first 50 records)\n",
    "2. Offset of `50` (second 50 records)\n",
    "3. Offset of `100` (third 50 records)\n",
    "4. Offset of `150` (fourth 50 records)\n",
    "5. Offset of `200` (final 10 records)\n",
    "\n",
    "In the cell below, create a function `get_offsets` that takes in a total and returns a list of offsets for that total. You can assume that there is a limit of 50 every time.\n",
    "\n",
    "*Hint: you can use `range` ([documentation here](https://docs.python.org/3.3/library/stdtypes.html?highlight=range#range)) to do this in one line of code. Just make the returned result is a list.*"
   ]
  },
  {
   "cell_type": "code",
   "execution_count": 9,
   "metadata": {},
   "outputs": [],
   "source": [
    "# Replace None with appropriate code\n",
    "def get_offsets(total):\n",
    "    \"\"\"\n",
    "    Get a list of offsets needed to get all pages\n",
    "    of data up until the total\n",
    "    \"\"\"\n",
    "    return list(range(0,total, 50))"
   ]
  },
  {
   "cell_type": "markdown",
   "metadata": {},
   "source": [
    "Check that your function works below:"
   ]
  },
  {
   "cell_type": "code",
   "execution_count": 10,
   "metadata": {},
   "outputs": [],
   "source": [
    "# Run this cell without changes\n",
    "\n",
    "assert get_offsets(200) == [0, 50, 100, 150]\n",
    "assert get_offsets(210) == [0, 50, 100, 150, 200]"
   ]
  },
  {
   "cell_type": "markdown",
   "metadata": {},
   "source": [
    "### Putting It All Together\n",
    "\n",
    "Recall that the following variable has already been declared for you:"
   ]
  },
  {
   "cell_type": "code",
   "execution_count": 11,
   "metadata": {},
   "outputs": [
    {
     "data": {
      "text/plain": [
       "{'term': 'pizza', 'location': 'New+York+NY'}"
      ]
     },
     "execution_count": 11,
     "metadata": {},
     "output_type": "execute_result"
    }
   ],
   "source": [
    "# Run this cell without changes\n",
    "url_params"
   ]
  },
  {
   "cell_type": "markdown",
   "metadata": {},
   "source": [
    "We'll go ahead and also specify that the limit should be 50 every time:"
   ]
  },
  {
   "cell_type": "code",
   "execution_count": 12,
   "metadata": {},
   "outputs": [],
   "source": [
    "# Run this cell without changes\n",
    "url_params[\"limit\"] = 50"
   ]
  },
  {
   "cell_type": "markdown",
   "metadata": {},
   "source": [
    "In order to modify the offset, you'll need to add it to `url_params` with the key `\"offset\"` and whatever value is needed.\n",
    "\n",
    "In the cell below, write code that:\n",
    "\n",
    "* Creates an empty list for the full prepared dataset\n",
    "* Loops over all of the offsets from `get_offsets` and makes an API call each time with the specified offset\n",
    "* Calls `prepare_data` to get a cleaned version of the result of each API call\n",
    "* Extends the full prepared dataset list with each query's prepared dataset"
   ]
  },
  {
   "cell_type": "code",
   "execution_count": 13,
   "metadata": {},
   "outputs": [
    {
     "data": {
      "text/plain": [
       "877"
      ]
     },
     "execution_count": 13,
     "metadata": {},
     "output_type": "execute_result"
    }
   ],
   "source": [
    "# Replace None with appropriate code\n",
    "\n",
    "# Create an empty list for the full prepared dataset\n",
    "full_dataset = []\n",
    "\n",
    "for offset in get_offsets(total):\n",
    "    # Add or update the \"offset\" key-value pair in url_params\n",
    "    url_params['offest'] = offset\n",
    "    \n",
    "    # Make the query and get the response\n",
    "    response = requests.get(url, headers=headers, params=url_params)\n",
    "    \n",
    "    # Get the response body in JSON format\n",
    "    response_json = response.json()\n",
    "    \n",
    "    # Get the list of businesses from the response_json\n",
    "    businesses = response_json['businesses']\n",
    "    \n",
    "    # Call the prepare_data function to get a list of processed data\n",
    "    prepared_businesses = prepare_data(businesses)\n",
    "    \n",
    "    # Extend full_dataset with this list (don't append, or you'll get\n",
    "    # a list of lists instead of a flat list)\n",
    "    full_dataset.extend(prepared_businesses)\n",
    "\n",
    "# Check the length of the full dataset. It will be up to `total`,\n",
    "# potentially less if there were missing values\n",
    "len(full_dataset)"
   ]
  },
  {
   "cell_type": "markdown",
   "metadata": {},
   "source": [
    "This code may take up to a few minutes to run.\n",
    "\n",
    "If you get an error trying to get the response body in JSON format, try adding `time.sleep(1)` right after the `requests.get` line, so your code will sleep for 1 second between each API call."
   ]
  },
  {
   "cell_type": "markdown",
   "metadata": {},
   "source": [
    "## 3. Perform Exploratory Analysis\n",
    "\n",
    "Take the businesses from the previous question and do an initial exploratory analysis. We have provided some plots for you to interpret:"
   ]
  },
  {
   "cell_type": "code",
   "execution_count": 14,
   "metadata": {},
   "outputs": [
    {
     "data": {
      "image/png": "[encoded data removed]",
      "text/plain": [
       "<Figure size 1152x360 with 3 Axes>"
      ]
     },
     "metadata": {
      "needs_background": "light"
     },
     "output_type": "display_data"
    }
   ],
   "source": [
    "# Run this cell without changes\n",
    "from collections import Counter\n",
    "import matplotlib.pyplot as plt\n",
    "%matplotlib inline\n",
    "\n",
    "fig, (ax1, ax2, ax3) = plt.subplots(ncols=3, figsize=(16, 5))\n",
    "\n",
    "# Plot distribution of number of reviews\n",
    "all_review_counts = [x[\"review_count\"] for x in full_dataset]\n",
    "ax1.hist(all_review_counts)\n",
    "ax1.set_title(\"Review Count Distribution\")\n",
    "ax1.set_xlabel(\"Number of Reviews\")\n",
    "ax1.set_ylabel(\"Number of Businesses\")\n",
    "\n",
    "# Plot rating distribution\n",
    "all_ratings = [x[\"rating\"] for x in full_dataset]\n",
    "rating_counter = Counter(all_ratings)\n",
    "rating_keys = sorted(rating_counter.keys())\n",
    "ax2.bar(rating_keys, [rating_counter[key] for key in rating_keys])\n",
    "ax2.set_title(\"Rating Distribution\")\n",
    "ax2.set_xlabel(\"Rating\")\n",
    "ax2.set_ylabel(\"Number of Businesses\")\n",
    "\n",
    "# Plot price distribution\n",
    "all_prices = [x[\"price\"].replace(\"$\", r\"\\$\") for x in full_dataset]\n",
    "price_counter = Counter(all_prices)\n",
    "price_keys = sorted(price_counter.keys())\n",
    "ax3.bar(price_keys, [price_counter[key] for key in price_keys])\n",
    "ax3.set_title(\"Price Distribution\")\n",
    "ax3.set_xlabel(\"Price Category\")\n",
    "ax3.set_ylabel(\"Number of Businesses\");"
   ]
  },
  {
   "cell_type": "markdown",
   "metadata": {},
   "source": [
    "Describe the distributions displayed above and interpret them in the context of your query. (Your answer may differ from the solution branch depending on your query.)"
   ]
  },
  {
   "cell_type": "code",
   "execution_count": 15,
   "metadata": {},
   "outputs": [
    {
     "data": {
      "text/plain": [
       "'\\nThe distribution of reviews is heavily skewed towards the left side - most businesses have less than 1000 reviews.\\n\\nThe distribution of ratings is grouped around the 3.75-4.25 ratings. There are no businesses rated below 3 in our data set, with most ratings skewed towards values above 3.75.\\n\\nThe distribution of price categories is roughly evenly distributed between the $ and $$ ratings, with very few businesses having a $$$ rating.\\n'"
      ]
     },
     "execution_count": 15,
     "metadata": {},
     "output_type": "execute_result"
    }
   ],
   "source": [
    "# Replace None with appropriate text\n",
    "\"\"\"\n",
    "The distribution of reviews is heavily skewed towards the left side - most businesses have less than 1000 reviews.\n",
    "\n",
    "The distribution of ratings is grouped around the 3.75-4.25 ratings. There are no businesses rated below 3 in our data set, with most ratings skewed towards values above 3.75.\n",
    "\n",
    "The distribution of price categories is roughly evenly distributed between the $ and $$ ratings, with very few businesses having a $$$ rating.\n",
    "\"\"\""
   ]
  },
  {
   "cell_type": "markdown",
   "metadata": {},
   "source": [
    "In the cell below, we also plot the rating distributions by price. In this setup, a price of one dollar sign is \"lower price\" and everything else is \"higher price\"."
   ]
  },
  {
   "cell_type": "code",
   "execution_count": 16,
   "metadata": {},
   "outputs": [
    {
     "data": {
      "image/png": "[encoded data removed]",
      "text/plain": [
       "<Figure size 432x288 with 1 Axes>"
      ]
     },
     "metadata": {
      "needs_background": "light"
     },
     "output_type": "display_data"
    }
   ],
   "source": [
    "# Run this cell without changes\n",
    "\n",
    "higher_price = []\n",
    "lower_price = []\n",
    "for row in full_dataset:\n",
    "    if row[\"price\"] == \"$\":\n",
    "        lower_price.append(row[\"rating\"])\n",
    "    else:\n",
    "        higher_price.append(row[\"rating\"])\n",
    "        \n",
    "fig, ax = plt.subplots()\n",
    "\n",
    "ax.hist([higher_price, lower_price], label=[\"higher price\", \"lower price\"], density=True)\n",
    "\n",
    "ax.legend();"
   ]
  },
  {
   "cell_type": "markdown",
   "metadata": {},
   "source": [
    "Is a higher price associated with a higher rating? (No need for any additional math/statistics, just interpret what you see in the plot.)"
   ]
  },
  {
   "cell_type": "code",
   "execution_count": 17,
   "metadata": {},
   "outputs": [
    {
     "data": {
      "text/plain": [
       "'\\nSomewhat. A higher price seems to lead to more extreme ratings - higher priced businesses are rated more extremely than lower priced businesses.\\n\\nHowever, overall, they are not associated with a higher rating in comparison to lower priced businesses.\\n'"
      ]
     },
     "execution_count": 17,
     "metadata": {},
     "output_type": "execute_result"
    }
   ],
   "source": [
    "# Replace None with appropriate text\n",
    "\"\"\"\n",
    "Not really. A higher price seems to lead to more extreme ratings - higher priced businesses are rated more extremely than lower priced businesses.\n",
    "\n",
    "However, overall, they are not associated with a higher rating in comparison to lower priced businesses.\n",
    "\"\"\""
   ]
  },
  {
   "cell_type": "markdown",
   "metadata": {},
   "source": [
    "Finally, let's look at ratings vs. review counts:"
   ]
  },
  {
   "cell_type": "code",
   "execution_count": 18,
   "metadata": {},
   "outputs": [
    {
     "data": {
      "image/png": "[encoded data removed]",
      "text/plain": [
       "<Figure size 1152x360 with 1 Axes>"
      ]
     },
     "metadata": {
      "needs_background": "light"
     },
     "output_type": "display_data"
    }
   ],
   "source": [
    "# Run this cell without changes\n",
    "fig, ax = plt.subplots(figsize=(16,5))\n",
    "\n",
    "ax.scatter(all_review_counts, all_ratings, alpha=0.2)\n",
    "ax.set_xlabel(\"Number of Reviews\")\n",
    "ax.set_ylabel(\"Rating\")\n",
    "# \"zoom in\" to a subset of review counts\n",
    "ax.set_xlim(left=0, right=1000);"
   ]
  },
  {
   "cell_type": "markdown",
   "metadata": {},
   "source": [
    "Is a higher number of reviews associated with a higher rating?"
   ]
  },
  {
   "cell_type": "code",
   "execution_count": 19,
   "metadata": {},
   "outputs": [
    {
     "data": {
      "text/plain": [
       "'\\nNot particularly, as there are businesses with a relatively high number of reviews (600) that have low ratings.\\n\\nIn addition, there are businesses with a low number of views that have high ratings.\\n\\nOur plot does not show a linear correlation between number of reviews and rating.\\n'"
      ]
     },
     "execution_count": 19,
     "metadata": {},
     "output_type": "execute_result"
    }
   ],
   "source": [
    "# Replace None with appropriate text\n",
    "\"\"\"\n",
    "Not particularly, as there are businesses with a relatively high number of reviews (600) that have low ratings.\n",
    "\n",
    "In addition, there are businesses with a low number of views that have high ratings.\n",
    "\n",
    "Our plot does not show a linear correlation between number of reviews and rating.\n",
    "\"\"\""
   ]
  },
  {
   "cell_type": "markdown",
   "metadata": {},
   "source": [
    "## 4. Create a Folium Map\n",
    "\n",
    "Make a map using Folium of the businesses you retrieved. Be sure to also add popups to the markers giving some basic information such as name, rating and price.\n",
    "\n",
    "You can center the map around the latitude and longitude of the first item in `full_dataset`."
   ]
  },
  {
   "cell_type": "code",
   "execution_count": 20,
   "metadata": {},
   "outputs": [
    {
     "data": {
      "text/html": [
       "<div style=\"width:100%;\"><div style=\"position:relative;width:100%;height:0;padding-bottom:60%;\"><span style=\"color:#565656\">Make this Notebook Trusted to load map: File -> Trust Notebook</span><iframe src=\"about:blank\" style=\"position:absolute;width:100%;height:100%;left:0;top:0;border:none !important;\" data-html=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 onload=\"this.contentDocument.open();this.contentDocument.write(atob(this.getAttribute('data-html')));this.contentDocument.close();\" allowfullscreen webkitallowfullscreen mozallowfullscreen></iframe></div></div>"
      ],
      "text/plain": [
       "<folium.folium.Map at 0x7fe639bab400>"
      ]
     },
     "execution_count": 20,
     "metadata": {},
     "output_type": "execute_result"
    }
   ],
   "source": [
    "# Replace None with appropriate code\n",
    "\n",
    "# Import the library\n",
    "import folium\n",
    "\n",
    "# Set up center latitude and longitude\n",
    "center_lat = full_dataset[0]['latitude']\n",
    "center_long = full_dataset[0]['longitude']\n",
    "\n",
    "# Initialize map with center lat and long\n",
    "yelp_map = folium.Map([center_lat, center_long])\n",
    "\n",
    "# Adjust this limit to see more or fewer businesses\n",
    "limit=100\n",
    "\n",
    "for business in full_dataset[:limit]:\n",
    "    # Extract information about business\n",
    "    lat = business['latitude']\n",
    "    long = business['longitude']\n",
    "    name = business['name']\n",
    "    rating = business['rating']\n",
    "    price = business['price']\n",
    "    details = \"{}\\nPrice: {} Rating:{}\".format(name,price,rating)\n",
    "    \n",
    "    # Create popup with relevant details\n",
    "    popup = folium.Popup(details, parse_html=True)\n",
    "    \n",
    "    # Create marker with relevant lat/long and popup\n",
    "    marker = folium.Marker(location=[lat,long], popup=popup)\n",
    "    \n",
    "    marker.add_to(yelp_map)\n",
    "    \n",
    "yelp_map"
   ]
  },
  {
   "cell_type": "markdown",
   "metadata": {},
   "source": [
    "## Summary\n",
    "\n",
    "Nice work! In this lab, you've made multiple API calls to Yelp in order to paginate through a results set, performing some basic exploratory analysis and then creating a nice interactive map to display the results using Folium! Well done!"
   ]
  }
 ],
 "metadata": {
  "kernelspec": {
   "display_name": "Python 3",
   "language": "python",
   "name": "python3"
  },
  "language_info": {
   "codemirror_mode": {
    "name": "ipython",
    "version": 3
   },
   "file_extension": ".py",
   "mimetype": "text/x-python",
   "name": "python",
   "nbconvert_exporter": "python",
   "pygments_lexer": "ipython3",
   "version": "3.8.5"
  },
  "toc": {
   "base_numbering": 1,
   "nav_menu": {},
   "number_sections": true,
   "sideBar": true,
   "skip_h1_title": false,
   "title_cell": "Table of Contents",
   "title_sidebar": "Contents",
   "toc_cell": false,
   "toc_position": {},
   "toc_section_display": true,
   "toc_window_display": false
  }
 },
 "nbformat": 4,
 "nbformat_minor": 2
}
